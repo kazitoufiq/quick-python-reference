{
 "metadata": {
  "language_info": {
   "codemirror_mode": {
    "name": "ipython",
    "version": 3
   },
   "file_extension": ".py",
   "mimetype": "text/x-python",
   "name": "python",
   "nbconvert_exporter": "python",
   "pygments_lexer": "ipython3",
   "version": "3.7.3"
  },
  "orig_nbformat": 2,
  "kernelspec": {
   "name": "python373jvsc74a57bd0b3ba2566441a7c06988d0923437866b63cedc61552a5af99d1f4fb67d367b25f",
   "display_name": "Python 3.7.3 64-bit ('base': conda)"
  },
  "metadata": {
   "interpreter": {
    "hash": "44465687726bcd306a83341a8dea204fe56d27f8ac4bf8f0ed2198fdfefcd0b1"
   }
  }
 },
 "nbformat": 4,
 "nbformat_minor": 2,
 "cells": [
  {
   "cell_type": "code",
   "execution_count": null,
   "metadata": {},
   "outputs": [],
   "source": [
    "import numpy as np"
   ]
  },
  {
   "cell_type": "code",
   "execution_count": null,
   "metadata": {},
   "outputs": [],
   "source": [
    "grades = np.array([72, 35,64,88,51,90,74,12])  # define a numpy array "
   ]
  },
  {
   "cell_type": "code",
   "execution_count": null,
   "metadata": {},
   "outputs": [],
   "source": [
    "center = 80"
   ]
  },
  {
   "cell_type": "code",
   "execution_count": null,
   "metadata": {},
   "outputs": [],
   "source": [
    "avg = grades.mean()  # array method - for average - https://numpy.org/doc/stable/reference/routines.html\n",
    "avg\n",
    "increment = center - avg   "
   ]
  },
  {
   "cell_type": "code",
   "execution_count": null,
   "metadata": {},
   "outputs": [],
   "source": [
    "new_grades = grades +  increment  # array operation on different shapes- broadcasting concept\n",
    "#arrays can be broadcast against each other if their dimensions match or if one of the arrays has a size of 1.\n",
    "new_grades"
   ]
  },
  {
   "cell_type": "code",
   "execution_count": null,
   "metadata": {},
   "outputs": [],
   "source": [
    "np.clip(new_grades, grades, 100)  # clip makes sure that no grade is below the original grade and above 100"
   ]
  },
  {
   "source": [
    "### Array Shapes and Axes\n",
    "''' \n",
    "Vectors - 1 D  ,  2D- spreadsheet like data\n",
    "Shape is a key concept when using multidimensional arrays. All arrays have a property called .shape \n",
    "'''"
   ],
   "cell_type": "markdown",
   "metadata": {}
  },
  {
   "source": [
    "#shape returs a tuple of the size in each dimension\n",
    "new_grades.shape  "
   ],
   "cell_type": "code",
   "metadata": {},
   "execution_count": null,
   "outputs": []
  },
  {
   "cell_type": "code",
   "execution_count": null,
   "metadata": {},
   "outputs": [],
   "source": [
    "temperatures = np.array([29.3, 42.1, 18.8, 16.1, 38.0, 12.5,12.6, 49.9, 38.6, 31.3, 9.2, 22.2])"
   ]
  },
  {
   "cell_type": "code",
   "execution_count": null,
   "metadata": {},
   "outputs": [],
   "source": [
    "temperatures.reshape(2,2,3)"
   ]
  },
  {
   "cell_type": "code",
   "execution_count": null,
   "metadata": {},
   "outputs": [],
   "source": [
    "th22 = temperatures.reshape(3,2,2)  ## 3 x 2 x 2 - block of data; tha's how we read\n",
    "# no. of planes= 3, no. of rows each plane = 2, no. of columns each plane =2\n",
    "th22"
   ]
  },
  {
   "cell_type": "code",
   "execution_count": null,
   "metadata": {},
   "outputs": [],
   "source": [
    "tt3 = temperatures.reshape(2,2,3)\n",
    "tt3"
   ]
  },
  {
   "cell_type": "code",
   "execution_count": null,
   "metadata": {},
   "outputs": [],
   "source": [
    "np.swapaxes(tt3, 0,2)"
   ]
  },
  {
   "cell_type": "code",
   "execution_count": null,
   "metadata": {},
   "outputs": [],
   "source": [
    "table = np.array([\n",
    "    [5, 3, 7, 1],\n",
    "    [2, 6, 7 ,9],\n",
    "    [1, 1, 1, 1],\n",
    "    [4, 3, 2, 0]])"
   ]
  },
  {
   "cell_type": "code",
   "execution_count": null,
   "metadata": {},
   "outputs": [],
   "source": [
    "table"
   ]
  },
  {
   "cell_type": "code",
   "execution_count": null,
   "metadata": {},
   "outputs": [],
   "source": [
    "table.shape  # axis = 0 is Vertical axis, axis =1 is horizontal axis\n",
    "table.max(axis=1)"
   ]
  },
  {
   "cell_type": "code",
   "execution_count": null,
   "metadata": {},
   "outputs": [],
   "source": [
    "A = np.arange(32).reshape(4, 1, 8) # 4 planes with 1 row and 8 columns\n",
    "B = np.arange(48).reshape(1, 6, 8) # 1 plane with 6 rows and 8 columns\n",
    "A+B  # use broadcasting to add\n"
   ]
  },
  {
   "source": [
    "### Data Science Operations: Filter, Order, Aggregate"
   ],
   "cell_type": "markdown",
   "metadata": {}
  },
  {
   "source": [
    "# Indexing"
   ],
   "cell_type": "markdown",
   "metadata": {}
  },
  {
   "cell_type": "code",
   "execution_count": 59,
   "metadata": {},
   "outputs": [],
   "source": [
    "# use a colon (:) to specify “the rest” or “all,” and you can even use two colons to skip elements as with regular Python lists.\n",
    "\n",
    "def TemChk(t):\n",
    "    assert t>0, \"colder than 0\"\n",
    "    return t\n",
    "\n"
   ]
  },
  {
   "cell_type": "code",
   "execution_count": 61,
   "metadata": {},
   "outputs": [
    {
     "output_type": "execute_result",
     "data": {
      "text/plain": [
       "100"
      ]
     },
     "metadata": {},
     "execution_count": 61
    }
   ],
   "source": [
    "TemChk(100)"
   ]
  },
  {
   "cell_type": "code",
   "execution_count": 64,
   "metadata": {},
   "outputs": [],
   "source": [
    "square = np.array([\n",
    "  [16,3,2,13],\n",
    "  [5,10,11,8],\n",
    "  [9,6,7,12],\n",
    "  [4,15,14,1]\n",
    "])"
   ]
  },
  {
   "cell_type": "code",
   "execution_count": 65,
   "metadata": {},
   "outputs": [
    {
     "output_type": "execute_result",
     "data": {
      "text/plain": [
       "array([[16,  3,  2, 13],\n",
       "       [ 5, 10, 11,  8],\n",
       "       [ 9,  6,  7, 12],\n",
       "       [ 4, 15, 14,  1]])"
      ]
     },
     "metadata": {},
     "execution_count": 65
    }
   ],
   "source": [
    "square"
   ]
  },
  {
   "cell_type": "code",
   "execution_count": 77,
   "metadata": {},
   "outputs": [
    {
     "output_type": "stream",
     "name": "stdout",
     "text": [
      "34\n34\n34\n34\n"
     ]
    }
   ],
   "source": [
    "for i in range(4):\n",
    "        #print(square[i,:].sum())\n",
    "        print(square[:,i].sum())"
   ]
  },
  {
   "cell_type": "code",
   "execution_count": 87,
   "metadata": {},
   "outputs": [
    {
     "output_type": "execute_result",
     "data": {
      "text/plain": [
       "array([4])"
      ]
     },
     "metadata": {},
     "execution_count": 87
    }
   ],
   "source": [
    "square[3,:1]  # position after colon (:) not included; see the postion of colon (:)"
   ]
  },
  {
   "cell_type": "code",
   "execution_count": null,
   "metadata": {},
   "outputs": [],
   "source": []
  }
 ]
}